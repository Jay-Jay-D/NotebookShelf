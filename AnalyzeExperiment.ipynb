{
 "cells": [
  {
   "cell_type": "code",
   "execution_count": 1,
   "metadata": {
    "collapsed": false,
    "deletable": true,
    "editable": true
   },
   "outputs": [],
   "source": [
    "import pandas as pd\n",
    "import numpy as np\n",
    "import seaborn\n",
    "%matplotlib inline\n",
    "\n",
    "from IPython.display import Image\n",
    "from IPython.core.display import HTML "
   ]
  },
  {
   "cell_type": "code",
   "execution_count": 2,
   "metadata": {
    "collapsed": true,
    "deletable": true,
    "editable": true
   },
   "outputs": [],
   "source": [
    "file = 'ExperimentFullResults_noPercentage.csv'\n",
    "df = pd.read_csv(file)"
   ]
  },
  {
   "cell_type": "markdown",
   "metadata": {
    "deletable": true,
    "editable": true
   },
   "source": [
    "# Experiment results analysis.\n",
    "\n",
    "## Clean data and descriptive statistics.\n",
    "\n",
    "From the 1250 runs, 260 were erroneous, mainly because the portfolio value went below zero (and this creates a stackoverflow error when estimating the final statistics, I think this error is fixed in a recent patch)."
   ]
  },
  {
   "cell_type": "code",
   "execution_count": 3,
   "metadata": {
    "collapsed": false,
    "deletable": true,
    "editable": true
   },
   "outputs": [
    {
     "data": {
      "text/plain": [
       "260"
      ]
     },
     "execution_count": 3,
     "metadata": {},
     "output_type": "execute_result"
    }
   ],
   "source": [
    "df[df.TotalTrades == 0].shape[0]"
   ]
  },
  {
   "cell_type": "code",
   "execution_count": 4,
   "metadata": {
    "collapsed": true,
    "deletable": true,
    "editable": true
   },
   "outputs": [],
   "source": [
    "df = df[df.TotalTrades != 0]"
   ]
  },
  {
   "cell_type": "code",
   "execution_count": 5,
   "metadata": {
    "collapsed": false,
    "deletable": true,
    "editable": true
   },
   "outputs": [
    {
     "data": {
      "text/html": [
       "<div>\n",
       "<table border=\"1\" class=\"dataframe\">\n",
       "  <thead>\n",
       "    <tr style=\"text-align: right;\">\n",
       "      <th></th>\n",
       "      <th>TotalTrades</th>\n",
       "      <th>AverageWin</th>\n",
       "      <th>AverageLoss</th>\n",
       "      <th>CompoundingAnnualReturn</th>\n",
       "      <th>Drawdown</th>\n",
       "      <th>Expectancy</th>\n",
       "      <th>NetProfit</th>\n",
       "      <th>SharpeRatio</th>\n",
       "      <th>LossRate</th>\n",
       "      <th>WinRate</th>\n",
       "      <th>...</th>\n",
       "      <th>AnnualStandardDeviation</th>\n",
       "      <th>AnnualVariance</th>\n",
       "      <th>InformationRatio</th>\n",
       "      <th>TrackingError</th>\n",
       "      <th>TreynorRatio</th>\n",
       "      <th>TotalFees</th>\n",
       "      <th>MaxExposure</th>\n",
       "      <th>Leverage</th>\n",
       "      <th>InitialCash</th>\n",
       "      <th>PairsToTrade</th>\n",
       "    </tr>\n",
       "  </thead>\n",
       "  <tbody>\n",
       "    <tr>\n",
       "      <th>count</th>\n",
       "      <td>990.000000</td>\n",
       "      <td>990.000000</td>\n",
       "      <td>990.000000</td>\n",
       "      <td>990.000000</td>\n",
       "      <td>990.000000</td>\n",
       "      <td>990.000000</td>\n",
       "      <td>990.000000</td>\n",
       "      <td>990.000000</td>\n",
       "      <td>990.000000</td>\n",
       "      <td>990.000000</td>\n",
       "      <td>...</td>\n",
       "      <td>990.000000</td>\n",
       "      <td>990.000000</td>\n",
       "      <td>990.000000</td>\n",
       "      <td>990.000000</td>\n",
       "      <td>990.000000</td>\n",
       "      <td>990.000000</td>\n",
       "      <td>990.000000</td>\n",
       "      <td>990.000000</td>\n",
       "      <td>990.000000</td>\n",
       "      <td>990.000000</td>\n",
       "    </tr>\n",
       "    <tr>\n",
       "      <th>mean</th>\n",
       "      <td>1001.993939</td>\n",
       "      <td>0.026291</td>\n",
       "      <td>-0.026413</td>\n",
       "      <td>-0.030644</td>\n",
       "      <td>0.512565</td>\n",
       "      <td>0.016145</td>\n",
       "      <td>-0.127610</td>\n",
       "      <td>0.135249</td>\n",
       "      <td>0.496717</td>\n",
       "      <td>0.503283</td>\n",
       "      <td>...</td>\n",
       "      <td>0.319380</td>\n",
       "      <td>0.647293</td>\n",
       "      <td>-0.216307</td>\n",
       "      <td>0.354697</td>\n",
       "      <td>-0.399678</td>\n",
       "      <td>3743.065495</td>\n",
       "      <td>0.415455</td>\n",
       "      <td>10.200000</td>\n",
       "      <td>333535.353535</td>\n",
       "      <td>3.009091</td>\n",
       "    </tr>\n",
       "    <tr>\n",
       "      <th>std</th>\n",
       "      <td>501.122852</td>\n",
       "      <td>0.051129</td>\n",
       "      <td>0.050953</td>\n",
       "      <td>0.084435</td>\n",
       "      <td>0.319709</td>\n",
       "      <td>0.128365</td>\n",
       "      <td>0.279853</td>\n",
       "      <td>0.125491</td>\n",
       "      <td>0.029475</td>\n",
       "      <td>0.029475</td>\n",
       "      <td>...</td>\n",
       "      <td>0.738854</td>\n",
       "      <td>14.030692</td>\n",
       "      <td>0.290198</td>\n",
       "      <td>0.726263</td>\n",
       "      <td>4.056452</td>\n",
       "      <td>8763.064810</td>\n",
       "      <td>0.198053</td>\n",
       "      <td>10.712645</td>\n",
       "      <td>377734.219805</td>\n",
       "      <td>1.428058</td>\n",
       "    </tr>\n",
       "    <tr>\n",
       "      <th>min</th>\n",
       "      <td>7.000000</td>\n",
       "      <td>-0.049700</td>\n",
       "      <td>-0.695000</td>\n",
       "      <td>-0.946200</td>\n",
       "      <td>0.002000</td>\n",
       "      <td>-0.631000</td>\n",
       "      <td>-0.981950</td>\n",
       "      <td>-0.215000</td>\n",
       "      <td>0.160000</td>\n",
       "      <td>0.420000</td>\n",
       "      <td>...</td>\n",
       "      <td>0.001000</td>\n",
       "      <td>0.000000</td>\n",
       "      <td>-0.596000</td>\n",
       "      <td>0.113000</td>\n",
       "      <td>-48.368000</td>\n",
       "      <td>0.000000</td>\n",
       "      <td>0.200000</td>\n",
       "      <td>1.000000</td>\n",
       "      <td>10000.000000</td>\n",
       "      <td>1.000000</td>\n",
       "    </tr>\n",
       "    <tr>\n",
       "      <th>25%</th>\n",
       "      <td>684.000000</td>\n",
       "      <td>0.004200</td>\n",
       "      <td>-0.028000</td>\n",
       "      <td>-0.033930</td>\n",
       "      <td>0.198250</td>\n",
       "      <td>-0.015000</td>\n",
       "      <td>-0.221470</td>\n",
       "      <td>0.063000</td>\n",
       "      <td>0.490000</td>\n",
       "      <td>0.490000</td>\n",
       "      <td>...</td>\n",
       "      <td>0.063250</td>\n",
       "      <td>0.004000</td>\n",
       "      <td>-0.493000</td>\n",
       "      <td>0.126000</td>\n",
       "      <td>0.072000</td>\n",
       "      <td>0.000000</td>\n",
       "      <td>0.300000</td>\n",
       "      <td>2.000000</td>\n",
       "      <td>50000.000000</td>\n",
       "      <td>2.000000</td>\n",
       "    </tr>\n",
       "    <tr>\n",
       "      <th>50%</th>\n",
       "      <td>1026.000000</td>\n",
       "      <td>0.012600</td>\n",
       "      <td>-0.012600</td>\n",
       "      <td>-0.002065</td>\n",
       "      <td>0.524500</td>\n",
       "      <td>0.003000</td>\n",
       "      <td>-0.014850</td>\n",
       "      <td>0.099000</td>\n",
       "      <td>0.500000</td>\n",
       "      <td>0.500000</td>\n",
       "      <td>...</td>\n",
       "      <td>0.195000</td>\n",
       "      <td>0.038000</td>\n",
       "      <td>-0.210000</td>\n",
       "      <td>0.219000</td>\n",
       "      <td>0.131000</td>\n",
       "      <td>0.000000</td>\n",
       "      <td>0.400000</td>\n",
       "      <td>5.000000</td>\n",
       "      <td>100000.000000</td>\n",
       "      <td>3.000000</td>\n",
       "    </tr>\n",
       "    <tr>\n",
       "      <th>75%</th>\n",
       "      <td>1376.000000</td>\n",
       "      <td>0.026700</td>\n",
       "      <td>-0.004200</td>\n",
       "      <td>0.002730</td>\n",
       "      <td>0.804000</td>\n",
       "      <td>0.013000</td>\n",
       "      <td>0.019985</td>\n",
       "      <td>0.175000</td>\n",
       "      <td>0.510000</td>\n",
       "      <td>0.510000</td>\n",
       "      <td>...</td>\n",
       "      <td>0.399000</td>\n",
       "      <td>0.159000</td>\n",
       "      <td>-0.024000</td>\n",
       "      <td>0.407000</td>\n",
       "      <td>0.247000</td>\n",
       "      <td>2000.190000</td>\n",
       "      <td>0.500000</td>\n",
       "      <td>10.000000</td>\n",
       "      <td>500000.000000</td>\n",
       "      <td>4.000000</td>\n",
       "    </tr>\n",
       "    <tr>\n",
       "      <th>max</th>\n",
       "      <td>1724.000000</td>\n",
       "      <td>0.528200</td>\n",
       "      <td>-0.000300</td>\n",
       "      <td>0.354120</td>\n",
       "      <td>1.000000</td>\n",
       "      <td>2.008000</td>\n",
       "      <td>0.480640</td>\n",
       "      <td>1.336000</td>\n",
       "      <td>0.580000</td>\n",
       "      <td>0.840000</td>\n",
       "      <td>...</td>\n",
       "      <td>21.003000</td>\n",
       "      <td>441.106000</td>\n",
       "      <td>1.361000</td>\n",
       "      <td>20.974000</td>\n",
       "      <td>10.025000</td>\n",
       "      <td>55883.380000</td>\n",
       "      <td>0.800000</td>\n",
       "      <td>50.000000</td>\n",
       "      <td>1000000.000000</td>\n",
       "      <td>5.000000</td>\n",
       "    </tr>\n",
       "  </tbody>\n",
       "</table>\n",
       "<p>8 rows × 23 columns</p>\n",
       "</div>"
      ],
      "text/plain": [
       "       TotalTrades  AverageWin  AverageLoss  CompoundingAnnualReturn  \\\n",
       "count   990.000000  990.000000   990.000000               990.000000   \n",
       "mean   1001.993939    0.026291    -0.026413                -0.030644   \n",
       "std     501.122852    0.051129     0.050953                 0.084435   \n",
       "min       7.000000   -0.049700    -0.695000                -0.946200   \n",
       "25%     684.000000    0.004200    -0.028000                -0.033930   \n",
       "50%    1026.000000    0.012600    -0.012600                -0.002065   \n",
       "75%    1376.000000    0.026700    -0.004200                 0.002730   \n",
       "max    1724.000000    0.528200    -0.000300                 0.354120   \n",
       "\n",
       "         Drawdown  Expectancy   NetProfit  SharpeRatio    LossRate  \\\n",
       "count  990.000000  990.000000  990.000000   990.000000  990.000000   \n",
       "mean     0.512565    0.016145   -0.127610     0.135249    0.496717   \n",
       "std      0.319709    0.128365    0.279853     0.125491    0.029475   \n",
       "min      0.002000   -0.631000   -0.981950    -0.215000    0.160000   \n",
       "25%      0.198250   -0.015000   -0.221470     0.063000    0.490000   \n",
       "50%      0.524500    0.003000   -0.014850     0.099000    0.500000   \n",
       "75%      0.804000    0.013000    0.019985     0.175000    0.510000   \n",
       "max      1.000000    2.008000    0.480640     1.336000    0.580000   \n",
       "\n",
       "          WinRate      ...       AnnualStandardDeviation  AnnualVariance  \\\n",
       "count  990.000000      ...                    990.000000      990.000000   \n",
       "mean     0.503283      ...                      0.319380        0.647293   \n",
       "std      0.029475      ...                      0.738854       14.030692   \n",
       "min      0.420000      ...                      0.001000        0.000000   \n",
       "25%      0.490000      ...                      0.063250        0.004000   \n",
       "50%      0.500000      ...                      0.195000        0.038000   \n",
       "75%      0.510000      ...                      0.399000        0.159000   \n",
       "max      0.840000      ...                     21.003000      441.106000   \n",
       "\n",
       "       InformationRatio  TrackingError  TreynorRatio     TotalFees  \\\n",
       "count        990.000000     990.000000    990.000000    990.000000   \n",
       "mean          -0.216307       0.354697     -0.399678   3743.065495   \n",
       "std            0.290198       0.726263      4.056452   8763.064810   \n",
       "min           -0.596000       0.113000    -48.368000      0.000000   \n",
       "25%           -0.493000       0.126000      0.072000      0.000000   \n",
       "50%           -0.210000       0.219000      0.131000      0.000000   \n",
       "75%           -0.024000       0.407000      0.247000   2000.190000   \n",
       "max            1.361000      20.974000     10.025000  55883.380000   \n",
       "\n",
       "       MaxExposure    Leverage     InitialCash  PairsToTrade  \n",
       "count   990.000000  990.000000      990.000000    990.000000  \n",
       "mean      0.415455   10.200000   333535.353535      3.009091  \n",
       "std       0.198053   10.712645   377734.219805      1.428058  \n",
       "min       0.200000    1.000000    10000.000000      1.000000  \n",
       "25%       0.300000    2.000000    50000.000000      2.000000  \n",
       "50%       0.400000    5.000000   100000.000000      3.000000  \n",
       "75%       0.500000   10.000000   500000.000000      4.000000  \n",
       "max       0.800000   50.000000  1000000.000000      5.000000  \n",
       "\n",
       "[8 rows x 23 columns]"
      ]
     },
     "execution_count": 5,
     "metadata": {},
     "output_type": "execute_result"
    }
   ],
   "source": [
    "df.describe()"
   ]
  },
  {
   "cell_type": "markdown",
   "metadata": {
    "deletable": true,
    "editable": true
   },
   "source": [
    "## Sharpe ratio distribution\n",
    "\n",
    "I'll analyze the effect of the algorithm parameters making focus just in the Sharpe ratio (all the data is available [here](https://drive.google.com/file/d/0B9-kA56h5JCMT2c5UHA1Q0F3YXM/view?usp=sharing), so you can make your own analysis if you want to)."
   ]
  },
  {
   "cell_type": "markdown",
   "metadata": {
    "deletable": true,
    "editable": true
   },
   "source": [
    "### Sharpe ratio density grouped by Maximum exposure"
   ]
  },
  {
   "cell_type": "code",
   "execution_count": 6,
   "metadata": {
    "collapsed": false,
    "deletable": true,
    "editable": true
   },
   "outputs": [
    {
     "data": {
      "text/html": [
       "<img src=\"http://i.imgur.com/zcN9XSU.png\"/>"
      ],
      "text/plain": [
       "<IPython.core.display.Image object>"
      ]
     },
     "execution_count": 6,
     "metadata": {},
     "output_type": "execute_result"
    }
   ],
   "source": [
    "Image(url=\"http://i.imgur.com/zcN9XSU.png\")"
   ]
  },
  {
   "cell_type": "markdown",
   "metadata": {},
   "source": [
    "### Sharpe ratio density grouped by Leverage"
   ]
  },
  {
   "cell_type": "code",
   "execution_count": 7,
   "metadata": {
    "collapsed": false,
    "deletable": true,
    "editable": true
   },
   "outputs": [
    {
     "data": {
      "text/html": [
       "<img src=\"http://i.imgur.com/eidGdcp.png\"/>"
      ],
      "text/plain": [
       "<IPython.core.display.Image object>"
      ]
     },
     "execution_count": 7,
     "metadata": {},
     "output_type": "execute_result"
    }
   ],
   "source": [
    "Image(url='http://i.imgur.com/eidGdcp.png')"
   ]
  },
  {
   "cell_type": "markdown",
   "metadata": {
    "collapsed": false,
    "deletable": true,
    "editable": true
   },
   "source": [
    "### Sharpe ratio density grouped by PairsToTrade"
   ]
  },
  {
   "cell_type": "code",
   "execution_count": 8,
   "metadata": {
    "collapsed": false,
    "deletable": true,
    "editable": true
   },
   "outputs": [
    {
     "data": {
      "text/html": [
       "<img src=\"http://i.imgur.com/i37YEZa.png\"/>"
      ],
      "text/plain": [
       "<IPython.core.display.Image object>"
      ]
     },
     "execution_count": 8,
     "metadata": {},
     "output_type": "execute_result"
    }
   ],
   "source": [
    "Image(url='http://i.imgur.com/i37YEZa.png')"
   ]
  },
  {
   "cell_type": "markdown",
   "metadata": {
    "collapsed": false,
    "deletable": true,
    "editable": true
   },
   "source": [
    "### Sharpe ratio density grouped by InitialCash"
   ]
  },
  {
   "cell_type": "code",
   "execution_count": 9,
   "metadata": {
    "collapsed": false,
    "deletable": true,
    "editable": true
   },
   "outputs": [
    {
     "data": {
      "text/html": [
       "<img src=\"http://i.imgur.com/FefKZJS.png\"/>"
      ],
      "text/plain": [
       "<IPython.core.display.Image object>"
      ]
     },
     "execution_count": 9,
     "metadata": {},
     "output_type": "execute_result"
    }
   ],
   "source": [
    "Image(url='http://i.imgur.com/FefKZJS.png')"
   ]
  },
  {
   "cell_type": "markdown",
   "metadata": {
    "collapsed": true,
    "deletable": true,
    "editable": true
   },
   "source": [
    " ### Sharpe ratio density grouped by Broker\n",
    " \n",
    " Finally the main question! "
   ]
  },
  {
   "cell_type": "code",
   "execution_count": 10,
   "metadata": {
    "collapsed": false,
    "deletable": true,
    "editable": true
   },
   "outputs": [
    {
     "data": {
      "text/html": [
       "<img src=\"http://i.imgur.com/lEPT2kU.png\"/>"
      ],
      "text/plain": [
       "<IPython.core.display.Image object>"
      ]
     },
     "execution_count": 10,
     "metadata": {},
     "output_type": "execute_result"
    }
   ],
   "source": [
    "Image(url='http://i.imgur.com/lEPT2kU.png')"
   ]
  },
  {
   "cell_type": "markdown",
   "metadata": {
    "collapsed": true,
    "deletable": true,
    "editable": true
   },
   "source": [
    "At first sight, this plot shows a better performance of FXCM relative to Oanda.\n",
    "\n",
    "Now, let's try to figure out why FXCM has that second smaller peak."
   ]
  },
  {
   "cell_type": "markdown",
   "metadata": {
    "collapsed": false,
    "deletable": true,
    "editable": true
   },
   "source": [
    "### Sharpe ratio vs. Annual SD by broker, by PairsToTrade"
   ]
  },
  {
   "cell_type": "code",
   "execution_count": 11,
   "metadata": {
    "collapsed": false,
    "deletable": true,
    "editable": true,
    "scrolled": false
   },
   "outputs": [
    {
     "data": {
      "text/html": [
       "<img src=\"http://i.imgur.com/bcO00pa.png\"/>"
      ],
      "text/plain": [
       "<IPython.core.display.Image object>"
      ]
     },
     "execution_count": 11,
     "metadata": {},
     "output_type": "execute_result"
    }
   ],
   "source": [
    "Image(url='http://i.imgur.com/bcO00pa.png')"
   ]
  },
  {
   "cell_type": "markdown",
   "metadata": {},
   "source": [
    "I used Annual SD in this projection because it helps us to separate the FXCM observations from the density second peak. The points shape are defined by PairstoTrade, and is clear that the FXCM observations to the right are mostly by runs where only the pairs with the biggest and the lowest excess returns were traded."
   ]
  },
  {
   "cell_type": "markdown",
   "metadata": {
    "collapsed": false,
    "deletable": true,
    "editable": true
   },
   "source": [
    "### Sharpe ratio box plot by Broker"
   ]
  },
  {
   "cell_type": "code",
   "execution_count": 12,
   "metadata": {
    "collapsed": false,
    "deletable": true,
    "editable": true,
    "scrolled": false
   },
   "outputs": [
    {
     "data": {
      "text/html": [
       "<img src=\"http://i.imgur.com/idX7TqI.png\"/>"
      ],
      "text/plain": [
       "<IPython.core.display.Image object>"
      ]
     },
     "execution_count": 12,
     "metadata": {},
     "output_type": "execute_result"
    }
   ],
   "source": [
    "Image(url='http://i.imgur.com/idX7TqI.png')"
   ]
  },
  {
   "cell_type": "markdown",
   "metadata": {
    "deletable": true,
    "editable": true
   },
   "source": [
    "This plot shows:\n",
    "* The mean (the dark blue vertical line)\n",
    "* Border values for the standard deviation of the mean. The blue highlighted area is the entire standard deviation of the mean.\n",
    "* The median (yellow vertical line). The thin blue line represents the area between the first (25%) and the third (75%) quantile, while the thin dotted line represents the entire range of values (from the lowest to the highest value in the data set for the selected parameter).\n",
    "\n",
    "Here we can have a measure of the difference in Sharpe ratio because of the Broker selection. We already know that FXCM has, in average, a better performance. Here is clear that the difference is small if the means are compared; if we compare the medians, the difference is even smaller.\n",
    "\n",
    "Finally, lets make some simple statistical tests in order to know if those small differences are significance."
   ]
  },
  {
   "cell_type": "code",
   "execution_count": 13,
   "metadata": {
    "collapsed": false,
    "deletable": true,
    "editable": true
   },
   "outputs": [],
   "source": [
    "from scipy.stats import ttest_ind, ttest_rel\n",
    "fxcm = df[df['Broker']=='fxcm']\n",
    "oanda = df[df['Broker']=='oanda']"
   ]
  },
  {
   "cell_type": "code",
   "execution_count": 14,
   "metadata": {
    "collapsed": false
   },
   "outputs": [
    {
     "name": "stdout",
     "output_type": "stream",
     "text": [
      "TotalTrades\n",
      "\t=> Is difference significative at 95%? False\n",
      "\t=> Is difference significative at 99%? False\n",
      "AverageWin\n",
      "\t=> Is difference significative at 95%? False\n",
      "\t=> Is difference significative at 99%? False\n",
      "AverageLoss\n",
      "\t=> Is difference significative at 95%? False\n",
      "\t=> Is difference significative at 99%? False\n",
      "CompoundingAnnualReturn\n",
      "\t=> Is difference significative at 95%? True\n",
      "\t=> Is difference significative at 99%? True\n",
      "Drawdown\n",
      "\t=> Is difference significative at 95%? False\n",
      "\t=> Is difference significative at 99%? False\n",
      "Expectancy\n",
      "\t=> Is difference significative at 95%? True\n",
      "\t=> Is difference significative at 99%? True\n",
      "NetProfit\n",
      "\t=> Is difference significative at 95%? True\n",
      "\t=> Is difference significative at 99%? True\n",
      "SharpeRatio\n",
      "\t=> Is difference significative at 95%? True\n",
      "\t=> Is difference significative at 99%? True\n",
      "LossRate\n",
      "\t=> Is difference significative at 95%? True\n",
      "\t=> Is difference significative at 99%? True\n",
      "WinRate\n",
      "\t=> Is difference significative at 95%? True\n",
      "\t=> Is difference significative at 99%? True\n",
      "ProfitLossRatio\n",
      "\t=> Is difference significative at 95%? False\n",
      "\t=> Is difference significative at 99%? False\n",
      "Alpha\n",
      "\t=> Is difference significative at 95%? False\n",
      "\t=> Is difference significative at 99%? False\n",
      "Beta\n",
      "\t=> Is difference significative at 95%? True\n",
      "\t=> Is difference significative at 99%? True\n",
      "AnnualStandardDeviation\n",
      "\t=> Is difference significative at 95%? False\n",
      "\t=> Is difference significative at 99%? False\n",
      "AnnualVariance\n",
      "\t=> Is difference significative at 95%? False\n",
      "\t=> Is difference significative at 99%? False\n",
      "InformationRatio\n",
      "\t=> Is difference significative at 95%? False\n",
      "\t=> Is difference significative at 99%? False\n",
      "TrackingError\n",
      "\t=> Is difference significative at 95%? False\n",
      "\t=> Is difference significative at 99%? False\n"
     ]
    }
   ],
   "source": [
    "statistics = df.columns[:17]\n",
    "for statistic in statistics:\n",
    "    test = ttest_ind(fxcm.get(statistic), oanda.get(statistic), equal_var=False)[1]\n",
    "    print(statistic)\n",
    "    print(\"\\t=> Is difference significative at 95%? {1}\".format(statistic, test<0.05))\n",
    "    print(\"\\t=> Is difference significative at 99%? {1}\".format(statistic, test<0.01))"
   ]
  },
  {
   "cell_type": "markdown",
   "metadata": {},
   "source": [
    "Well, seems FXCM has a significantly better performance than OANDA.\n",
    "\n",
    "### Being statistically correct one can say: _**this experiment failed to show that FXCM and OANDA have the same impact in trading.**_"
   ]
  },
  {
   "cell_type": "markdown",
   "metadata": {},
   "source": [
    "## Extras\n",
    "\n",
    "### Take care! High exposure + high leverage = huge drawdowns "
   ]
  },
  {
   "cell_type": "code",
   "execution_count": 15,
   "metadata": {
    "collapsed": false
   },
   "outputs": [
    {
     "data": {
      "text/html": [
       "<img src=\"http://i.imgur.com/sSDuZhu.png\"/>"
      ],
      "text/plain": [
       "<IPython.core.display.Image object>"
      ]
     },
     "execution_count": 15,
     "metadata": {},
     "output_type": "execute_result"
    }
   ],
   "source": [
    "Image(url='http://i.imgur.com/sSDuZhu.png')"
   ]
  },
  {
   "cell_type": "code",
   "execution_count": 16,
   "metadata": {
    "collapsed": false
   },
   "outputs": [
    {
     "data": {
      "text/html": [
       "<img src=\"http://i.imgur.com/Qpq2LDL.png\"/>"
      ],
      "text/plain": [
       "<IPython.core.display.Image object>"
      ]
     },
     "execution_count": 16,
     "metadata": {},
     "output_type": "execute_result"
    }
   ],
   "source": [
    "Image(url='http://i.imgur.com/Qpq2LDL.png')"
   ]
  },
  {
   "cell_type": "markdown",
   "metadata": {},
   "source": [
    "The first plot is the Drawdown box plot grouped by MaxExposure, the second is Drawdown gruped by Leverage.\n",
    "\n",
    "### So, FXCM is cheaper, uh? Let's see how it scales. \n",
    "#### FXCM fees grouped by InitialCash."
   ]
  },
  {
   "cell_type": "code",
   "execution_count": 17,
   "metadata": {
    "collapsed": false
   },
   "outputs": [
    {
     "data": {
      "text/html": [
       "<img src=\"http://i.imgur.com/FlARWUo.png\"/>"
      ],
      "text/plain": [
       "<IPython.core.display.Image object>"
      ]
     },
     "execution_count": 17,
     "metadata": {},
     "output_type": "execute_result"
    }
   ],
   "source": [
    "Image(url='http://i.imgur.com/FlARWUo.png')"
   ]
  },
  {
   "cell_type": "code",
   "execution_count": null,
   "metadata": {
    "collapsed": true
   },
   "outputs": [],
   "source": []
  }
 ],
 "metadata": {
  "anaconda-cloud": {},
  "kernelspec": {
   "display_name": "Python [default]",
   "language": "python",
   "name": "python3"
  },
  "language_info": {
   "codemirror_mode": {
    "name": "ipython",
    "version": 3
   },
   "file_extension": ".py",
   "mimetype": "text/x-python",
   "name": "python",
   "nbconvert_exporter": "python",
   "pygments_lexer": "ipython3",
   "version": "3.5.2"
  }
 },
 "nbformat": 4,
 "nbformat_minor": 2
}
