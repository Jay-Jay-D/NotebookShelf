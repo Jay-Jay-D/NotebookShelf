{
 "cells": [
  {
   "cell_type": "code",
   "execution_count": 1,
   "metadata": {},
   "outputs": [],
   "source": [
    "import pandas as pd\n",
    "import numpy as np"
   ]
  },
  {
   "cell_type": "markdown",
   "metadata": {},
   "source": [
    "# Testing data genertor for Cuppock curve indicator\n",
    "\n",
    "## Data from [SchoolCharts](http://stockcharts.com/school/doku.php?id=chart_school:technical_indicators:coppock_curve)"
   ]
  },
  {
   "cell_type": "code",
   "execution_count": 2,
   "metadata": {},
   "outputs": [],
   "source": [
    "base_data = [872.81, 919.14, 919.32, 987.48, 1020.62, 1057.08, 1036.19, 1095.63, 1115.1, 1073.87,\n",
    "             1104.49, 1169.43, 1186.69, 1089.41, 1030.71, 1101.6, 1049.33, 1141.2, 1183.26, 1180.55,\n",
    "             1257.64, 1286.12, 1327.22, 1325.83, 1363.61, 1345.2, 1320.64, 1292.28, 1218.89, 1131.42,\n",
    "             1253.3, 1246.96, 1257.6, 1312.41, 1365.68, 1408.47, 1397.91, 1310.33, 1362.16, 1379.32]"
   ]
  },
  {
   "cell_type": "code",
   "execution_count": 3,
   "metadata": {},
   "outputs": [],
   "source": [
    "# Fixed period WMA function for pandas rolling window. \n",
    "wma = lambda x : np.dot(x, range(1,11)) / 55"
   ]
  },
  {
   "cell_type": "code",
   "execution_count": 4,
   "metadata": {},
   "outputs": [
    {
     "data": {
      "text/html": [
       "<div>\n",
       "<style scoped>\n",
       "    .dataframe tbody tr th:only-of-type {\n",
       "        vertical-align: middle;\n",
       "    }\n",
       "\n",
       "    .dataframe tbody tr th {\n",
       "        vertical-align: top;\n",
       "    }\n",
       "\n",
       "    .dataframe thead th {\n",
       "        text-align: right;\n",
       "    }\n",
       "</style>\n",
       "<table border=\"1\" class=\"dataframe\">\n",
       "  <thead>\n",
       "    <tr style=\"text-align: right;\">\n",
       "      <th></th>\n",
       "      <th>Close</th>\n",
       "      <th>roc_11</th>\n",
       "      <th>roc_14</th>\n",
       "      <th>roc_sum</th>\n",
       "      <th>cuppock</th>\n",
       "    </tr>\n",
       "  </thead>\n",
       "  <tbody>\n",
       "    <tr>\n",
       "      <th>35</th>\n",
       "      <td>1408.47</td>\n",
       "      <td>3.289797</td>\n",
       "      <td>9.513109</td>\n",
       "      <td>12.802906</td>\n",
       "      <td>12.782034</td>\n",
       "    </tr>\n",
       "    <tr>\n",
       "      <th>36</th>\n",
       "      <td>1397.91</td>\n",
       "      <td>3.918376</td>\n",
       "      <td>5.326170</td>\n",
       "      <td>9.244547</td>\n",
       "      <td>11.392426</td>\n",
       "    </tr>\n",
       "    <tr>\n",
       "      <th>37</th>\n",
       "      <td>1310.33</td>\n",
       "      <td>-0.780682</td>\n",
       "      <td>-1.169079</td>\n",
       "      <td>-1.949761</td>\n",
       "      <td>8.366161</td>\n",
       "    </tr>\n",
       "    <tr>\n",
       "      <th>38</th>\n",
       "      <td>1362.16</td>\n",
       "      <td>5.407497</td>\n",
       "      <td>-0.106335</td>\n",
       "      <td>5.301161</td>\n",
       "      <td>7.453239</td>\n",
       "    </tr>\n",
       "    <tr>\n",
       "      <th>39</th>\n",
       "      <td>1379.32</td>\n",
       "      <td>13.161975</td>\n",
       "      <td>2.536426</td>\n",
       "      <td>15.698401</td>\n",
       "      <td>8.790068</td>\n",
       "    </tr>\n",
       "  </tbody>\n",
       "</table>\n",
       "</div>"
      ],
      "text/plain": [
       "      Close     roc_11    roc_14    roc_sum    cuppock\n",
       "35  1408.47   3.289797  9.513109  12.802906  12.782034\n",
       "36  1397.91   3.918376  5.326170   9.244547  11.392426\n",
       "37  1310.33  -0.780682 -1.169079  -1.949761   8.366161\n",
       "38  1362.16   5.407497 -0.106335   5.301161   7.453239\n",
       "39  1379.32  13.161975  2.536426  15.698401   8.790068"
      ]
     },
     "execution_count": 4,
     "metadata": {},
     "output_type": "execute_result"
    }
   ],
   "source": [
    "base = pd.DataFrame(base_data, columns=[\"Close\"])\n",
    "base['roc_11'] = base.Close.pct_change(11)*100\n",
    "base['roc_14'] = base.Close.pct_change(14)*100\n",
    "base['roc_sum'] = base.roc_11 + base.roc_14\n",
    "base['cuppock'] = base.roc_sum.rolling(10).apply(wma)\n",
    "base.tail()"
   ]
  },
  {
   "cell_type": "markdown",
   "metadata": {},
   "source": [
    "### Looks great, now generate test data."
   ]
  },
  {
   "cell_type": "code",
   "execution_count": 5,
   "metadata": {},
   "outputs": [],
   "source": [
    "def estimate_cuppock(base):\n",
    "    base['roc_11'] = base.Close.pct_change(11)*100\n",
    "    base['roc_14'] = base.Close.pct_change(14)*100\n",
    "    base['roc_sum'] = base.roc_11 + base.roc_14\n",
    "    base['CoppockCurve'] = base.roc_sum.rolling(10).apply(wma)\n",
    "    return base"
   ]
  },
  {
   "cell_type": "markdown",
   "metadata": {},
   "source": [
    "Read test data form Lean and estimate the indicator "
   ]
  },
  {
   "cell_type": "code",
   "execution_count": 6,
   "metadata": {},
   "outputs": [],
   "source": [
    "base_folder = 'D:/REPOS/LeanSTP/Tests/TestData/'\n",
    "spy = pd.read_csv(base_folder + 'spy_10_min.txt', index_col=0, parse_dates=True)"
   ]
  },
  {
   "cell_type": "code",
   "execution_count": 7,
   "metadata": {},
   "outputs": [
    {
     "data": {
      "text/html": [
       "<div>\n",
       "<style scoped>\n",
       "    .dataframe tbody tr th:only-of-type {\n",
       "        vertical-align: middle;\n",
       "    }\n",
       "\n",
       "    .dataframe tbody tr th {\n",
       "        vertical-align: top;\n",
       "    }\n",
       "\n",
       "    .dataframe thead th {\n",
       "        text-align: right;\n",
       "    }\n",
       "</style>\n",
       "<table border=\"1\" class=\"dataframe\">\n",
       "  <thead>\n",
       "    <tr style=\"text-align: right;\">\n",
       "      <th></th>\n",
       "      <th>Open</th>\n",
       "      <th>High</th>\n",
       "      <th>Low</th>\n",
       "      <th>Close</th>\n",
       "      <th>Volume</th>\n",
       "      <th>roc_11</th>\n",
       "      <th>roc_14</th>\n",
       "      <th>roc_sum</th>\n",
       "      <th>CoppockCurve</th>\n",
       "    </tr>\n",
       "    <tr>\n",
       "      <th>Date</th>\n",
       "      <th></th>\n",
       "      <th></th>\n",
       "      <th></th>\n",
       "      <th></th>\n",
       "      <th></th>\n",
       "      <th></th>\n",
       "      <th></th>\n",
       "      <th></th>\n",
       "      <th></th>\n",
       "    </tr>\n",
       "  </thead>\n",
       "  <tbody>\n",
       "    <tr>\n",
       "      <th>2015-03-19 15:20:00</th>\n",
       "      <td>209.6335</td>\n",
       "      <td>209.69</td>\n",
       "      <td>209.53</td>\n",
       "      <td>209.56</td>\n",
       "      <td>2133800.0</td>\n",
       "      <td>-0.066762</td>\n",
       "      <td>0.185110</td>\n",
       "      <td>0.118348</td>\n",
       "      <td>0.226003</td>\n",
       "    </tr>\n",
       "    <tr>\n",
       "      <th>2015-03-19 15:30:00</th>\n",
       "      <td>209.5600</td>\n",
       "      <td>209.60</td>\n",
       "      <td>209.31</td>\n",
       "      <td>209.57</td>\n",
       "      <td>4570200.0</td>\n",
       "      <td>0.019090</td>\n",
       "      <td>0.138570</td>\n",
       "      <td>0.157661</td>\n",
       "      <td>0.219413</td>\n",
       "    </tr>\n",
       "    <tr>\n",
       "      <th>2015-03-19 15:40:00</th>\n",
       "      <td>209.5700</td>\n",
       "      <td>209.77</td>\n",
       "      <td>209.45</td>\n",
       "      <td>209.71</td>\n",
       "      <td>3584100.0</td>\n",
       "      <td>0.098327</td>\n",
       "      <td>0.071579</td>\n",
       "      <td>0.169906</td>\n",
       "      <td>0.212167</td>\n",
       "    </tr>\n",
       "    <tr>\n",
       "      <th>2015-03-19 15:50:00</th>\n",
       "      <td>209.7100</td>\n",
       "      <td>209.73</td>\n",
       "      <td>209.40</td>\n",
       "      <td>209.55</td>\n",
       "      <td>3245200.0</td>\n",
       "      <td>0.090753</td>\n",
       "      <td>-0.071531</td>\n",
       "      <td>0.019222</td>\n",
       "      <td>0.174087</td>\n",
       "    </tr>\n",
       "    <tr>\n",
       "      <th>2015-03-19 16:00:00</th>\n",
       "      <td>209.5500</td>\n",
       "      <td>209.61</td>\n",
       "      <td>209.45</td>\n",
       "      <td>209.50</td>\n",
       "      <td>7943500.0</td>\n",
       "      <td>-0.071548</td>\n",
       "      <td>-0.014318</td>\n",
       "      <td>-0.085866</td>\n",
       "      <td>0.123198</td>\n",
       "    </tr>\n",
       "  </tbody>\n",
       "</table>\n",
       "</div>"
      ],
      "text/plain": [
       "                         Open    High     Low   Close    Volume     roc_11  \\\n",
       "Date                                                                         \n",
       "2015-03-19 15:20:00  209.6335  209.69  209.53  209.56  2133800.0 -0.066762   \n",
       "2015-03-19 15:30:00  209.5600  209.60  209.31  209.57  4570200.0  0.019090   \n",
       "2015-03-19 15:40:00  209.5700  209.77  209.45  209.71  3584100.0  0.098327   \n",
       "2015-03-19 15:50:00  209.7100  209.73  209.40  209.55  3245200.0  0.090753   \n",
       "2015-03-19 16:00:00  209.5500  209.61  209.45  209.50  7943500.0 -0.071548   \n",
       "\n",
       "                       roc_14   roc_sum  CoppockCurve  \n",
       "Date                                                   \n",
       "2015-03-19 15:20:00  0.185110  0.118348      0.226003  \n",
       "2015-03-19 15:30:00  0.138570  0.157661      0.219413  \n",
       "2015-03-19 15:40:00  0.071579  0.169906      0.212167  \n",
       "2015-03-19 15:50:00 -0.071531  0.019222      0.174087  \n",
       "2015-03-19 16:00:00 -0.014318 -0.085866      0.123198  "
      ]
     },
     "execution_count": 7,
     "metadata": {},
     "output_type": "execute_result"
    }
   ],
   "source": [
    "testing_data = estimate_cuppock(spy)\n",
    "testing_data.tail()"
   ]
  },
  {
   "cell_type": "code",
   "execution_count": 8,
   "metadata": {},
   "outputs": [],
   "source": [
    "testing_data.to_csv(base_folder + 'spy_coppock_curve.csv')"
   ]
  },
  {
   "cell_type": "code",
   "execution_count": null,
   "metadata": {},
   "outputs": [],
   "source": []
  }
 ],
 "metadata": {
  "kernelspec": {
   "display_name": "Python 3",
   "language": "python",
   "name": "python3"
  },
  "language_info": {
   "codemirror_mode": {
    "name": "ipython",
    "version": 3
   },
   "file_extension": ".py",
   "mimetype": "text/x-python",
   "name": "python",
   "nbconvert_exporter": "python",
   "pygments_lexer": "ipython3",
   "version": "3.6.3"
  }
 },
 "nbformat": 4,
 "nbformat_minor": 2
}
