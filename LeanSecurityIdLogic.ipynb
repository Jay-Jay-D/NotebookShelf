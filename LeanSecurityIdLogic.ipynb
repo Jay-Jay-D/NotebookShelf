{
 "cells": [
  {
   "cell_type": "markdown",
   "metadata": {},
   "source": [
    "# Lean Security ID Logic"
   ]
  },
  {
   "cell_type": "code",
   "execution_count": 1,
   "metadata": {},
   "outputs": [],
   "source": [
    "import sys\n",
    "import os\n",
    "from datetime import datetime\n",
    "from numpy import base_repr\n",
    "os.chdir(r'D:\\REPOS\\LeanVersions\\Lean\\Launcher\\bin\\Debug')"
   ]
  },
  {
   "cell_type": "markdown",
   "metadata": {},
   "source": [
    "## First, let's import the Lean assemblies into Python, so we can compare the results"
   ]
  },
  {
   "cell_type": "code",
   "execution_count": 2,
   "metadata": {},
   "outputs": [],
   "source": [
    "from clr import AddReference\n",
    "AddReference(\"QuantConnect.Common\")\n",
    "\n",
    "from QuantConnect.Data import BaseData\n",
    "from QuantConnect.Data.Auxiliary import LocalDiskMapFileProvider\n",
    "from QuantConnect.Util import Composer\n",
    "from QuantConnect.Interfaces import IMapFileProvider\n",
    "from QuantConnect import SecurityIdentifier, Symbol, SecurityType, Market"
   ]
  },
  {
   "cell_type": "markdown",
   "metadata": {},
   "source": [
    "Let's create a equity identifier and check it value. "
   ]
  },
  {
   "cell_type": "code",
   "execution_count": 3,
   "metadata": {},
   "outputs": [
    {
     "data": {
      "text/plain": [
       "'SPY R735QTJ8XC9X'"
      ]
     },
     "execution_count": 3,
     "metadata": {},
     "output_type": "execute_result"
    }
   ],
   "source": [
    "spy_date = datetime(1998, 1, 2)   # the origin of this date will be explain later, for now, take it as given.\n",
    "sid = SecurityIdentifier.GenerateEquity(spy_date, \"SPY\", Market.USA)\n",
    "str(sid)"
   ]
  },
  {
   "cell_type": "markdown",
   "metadata": {},
   "source": [
    "The SecurityIdentigfier objects has to parts, the first is the familiar ticker, and the generated *ID*. \n",
    "\n",
    "The ID is calculated by encoding of the security type, the market and the date defined above. For secutities like Option and Futures, the ID calulation also includes expiry, strike, rights (call, put) etc.\n",
    "\n",
    "In order to transform the categories (markets, types) to integers, some constats are defined:"
   ]
  },
  {
   "cell_type": "code",
   "execution_count": 4,
   "metadata": {},
   "outputs": [],
   "source": [
    "security_type_width = 100\n",
    "security_type_offset = 1;\n",
    "market_width = 1000;\n",
    "market_offset = security_type_offset * security_type_width;\n",
    "days_offset = 100000000000000"
   ]
  },
  {
   "cell_type": "markdown",
   "metadata": {},
   "source": [
    "#### Security Type and Market encoding\n",
    "SecurityType is an Enum, is has an integer value for each one of its _alternatives_ "
   ]
  },
  {
   "cell_type": "code",
   "execution_count": 5,
   "metadata": {},
   "outputs": [
    {
     "name": "stdout",
     "output_type": "stream",
     "text": [
      "Equity -> 1\n",
      "Crypto -> 7\n",
      "Forex -> 4\n"
     ]
    }
   ],
   "source": [
    "print (f'Equity -> {int(SecurityType.Equity)}')\n",
    "print (f'Crypto -> {int(SecurityType.Crypto)}')\n",
    "print (f'Forex -> {int(SecurityType.Forex)}')"
   ]
  },
  {
   "cell_type": "markdown",
   "metadata": {},
   "source": [
    "Market object is a class, but it has a similar behavior using the proper methods"
   ]
  },
  {
   "cell_type": "code",
   "execution_count": 6,
   "metadata": {},
   "outputs": [
    {
     "name": "stdout",
     "output_type": "stream",
     "text": [
      "USA -> 1\n",
      "USA -> 1\n",
      "1 -> usa\n",
      "\n",
      "Oanda -> 3\n",
      "3 -> oanda\n"
     ]
    }
   ],
   "source": [
    "print (f'USA -> {Market.Encode(Market.USA)}')\n",
    "print (f'USA -> {Market.Encode(\"usa\")}')\n",
    "print (f'1 -> {Market.Decode(1)}\\n')\n",
    "\n",
    "print (f'Oanda -> {Market.Encode(Market.Oanda)}')\n",
    "print (f'3 -> {Market.Decode(3)}')"
   ]
  },
  {
   "cell_type": "markdown",
   "metadata": {},
   "source": [
    "#### Date Encoding\n",
    "The date econding is simply the [OLE Automation representation](https://msdn.microsoft.com/en-us/library/system.datetime.tooadate.aspx) of the date defined above.\n",
    "\n",
    "In order to reproduce the conversion, we'll use the following method [(source)](https://stackoverflow.com/a/10443946/3928185) "
   ]
  },
  {
   "cell_type": "code",
   "execution_count": 7,
   "metadata": {},
   "outputs": [],
   "source": [
    "def excel_date(date1):\n",
    "    temp = datetime(1899, 12, 30, 0, 0, 0)    # Note, not 31st Dec but 30th!\n",
    "    delta = date1 - temp\n",
    "    return float(delta.days) + (float(delta.seconds) / 86400)\n",
    "\n",
    "# Test cases from MSDN\n",
    "assert(excel_date(datetime(1899, 12, 31))==1)\n",
    "assert(excel_date(datetime(1900, 1, 1, 6, 0, 0))==2.25)\n",
    "assert(excel_date(datetime(1899, 12, 29, 0, 0, 0))==-1)"
   ]
  },
  {
   "cell_type": "markdown",
   "metadata": {},
   "source": [
    "#### Finally, the ID generation!\n",
    "\n",
    "This is simple the encoding "
   ]
  },
  {
   "cell_type": "code",
   "execution_count": 8,
   "metadata": {},
   "outputs": [],
   "source": [
    "days = excel_date(spy_date) * days_offset\n",
    "market_code = Market.Encode(Market.USA) * market_offset"
   ]
  },
  {
   "cell_type": "code",
   "execution_count": 9,
   "metadata": {},
   "outputs": [
    {
     "data": {
      "text/plain": [
       "'R735QTJ8XC74'"
      ]
     },
     "execution_count": 9,
     "metadata": {},
     "output_type": "execute_result"
    }
   ],
   "source": [
    "base_repr(int(market_code + days), 36)"
   ]
  }
 ],
 "metadata": {
  "kernelspec": {
   "display_name": "Python 3",
   "language": "python",
   "name": "python3"
  },
  "language_info": {
   "codemirror_mode": {
    "name": "ipython",
    "version": 3
   },
   "file_extension": ".py",
   "mimetype": "text/x-python",
   "name": "python",
   "nbconvert_exporter": "python",
   "pygments_lexer": "ipython3",
   "version": "3.6.5"
  }
 },
 "nbformat": 4,
 "nbformat_minor": 2
}
