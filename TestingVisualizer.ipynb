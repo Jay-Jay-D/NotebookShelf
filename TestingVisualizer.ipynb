{
 "cells": [
  {
   "cell_type": "code",
   "execution_count": 1,
   "metadata": {},
   "outputs": [],
   "source": [
    "import os\n",
    "os.chdir('D:/REPOS/LeanVersions/Lean/ToolBox/Visualizer')"
   ]
  },
  {
   "cell_type": "code",
   "execution_count": 3,
   "metadata": {},
   "outputs": [],
   "source": [
    "spot_markets_cases = ['D:/REPOS/LeanVersions/Lean/Data/cfd/oanda/daily/xauusd.zip',\n",
    "                      'D:/REPOS/LeanVersions/Lean/Data/cfd/oanda/hour/xauusd.zip',\n",
    "                      'D:/REPOS/LeanVersions/Lean/Data/cfd/oanda/minute/xauusd/20140501_quote.zip',\n",
    "                      'D:/REPOS/LeanVersions/Lean/Data/cfd/oanda/second/xauusd/20140501_quote.zip',\n",
    "                      'D:/REPOS/LeanVersions/Lean/Data/cfd/oanda/tick/xauusd/20140501_quote.zip',\n",
    "                      'D:/REPOS/LeanVersions/Lean/Data/crypto/gdax/daily/btcusd_quote.zip',\n",
    "                      'D:/REPOS/LeanVersions/Lean/Data/crypto/gdax/minute/btceur/20180404_trade.zip',\n",
    "                      'D:/REPOS/LeanVersions/Lean/Data/crypto/gdax/second/btcusd/20161007_quote.zip',\n",
    "                      'D:/REPOS/LeanVersions/Lean/Data/equity/usa/daily/aapl.zip',\n",
    "                      'D:/REPOS/LeanVersions/Lean/Data/equity/usa/hour/bac.zip',\n",
    "                      'D:/REPOS/LeanVersions/Lean/Data/equity/usa/minute/aapl/20140605_trade.zip',\n",
    "                      'D:/REPOS/LeanVersions/Lean/Data/equity/usa/second/aig/20131007_trade.zip',\n",
    "                      'D:/REPOS/LeanVersions/Lean/Data/equity/usa/tick/aig/20131007_trade.zip',\n",
    "                      'D:/REPOS/LeanVersions/Lean/Data/forex/fxcm/daily/eurgbp.zip',\n",
    "                      'D:/REPOS/LeanVersions/Lean/Data/forex/fxcm/hour/eurusd.zip',\n",
    "                      'D:/REPOS/LeanVersions/Lean/Data/forex/fxcm/minute/eurusd/20140501_quote.zip',\n",
    "                      'D:/REPOS/LeanVersions/Lean/Data/forex/fxcm/second/eurusd/20140501_quote.zip',\n",
    "                      'D:/REPOS/LeanVersions/Lean/Data/forex/fxcm/tick/eurusd/20140501_quote.zip'\n",
    "                      ]"
   ]
  },
  {
   "cell_type": "code",
   "execution_count": 4,
   "metadata": {},
   "outputs": [],
   "source": [
    "base_cli = 'python QuantConnect.Visualizer.py'\n",
    "base_output_folder = 'C:/Users/jjd/Pictures/Testing/'"
   ]
  },
  {
   "cell_type": "code",
   "execution_count": 5,
   "metadata": {},
   "outputs": [
    {
     "name": "stdout",
     "output_type": "stream",
     "text": [
      "Running python QuantConnect.Visualizer.py D:/REPOS/LeanVersions/Lean/Data/cfd/oanda/daily/xauusd.zip C:/Users/jjd/Pictures/Testing/cfd_daily\n",
      "Running python QuantConnect.Visualizer.py D:/REPOS/LeanVersions/Lean/Data/cfd/oanda/hour/xauusd.zip C:/Users/jjd/Pictures/Testing/cfd_hour\n",
      "Running python QuantConnect.Visualizer.py D:/REPOS/LeanVersions/Lean/Data/cfd/oanda/minute/xauusd/20140501_quote.zip C:/Users/jjd/Pictures/Testing/cfd_minute\n",
      "Running python QuantConnect.Visualizer.py D:/REPOS/LeanVersions/Lean/Data/cfd/oanda/second/xauusd/20140501_quote.zip C:/Users/jjd/Pictures/Testing/cfd_second\n",
      "Running python QuantConnect.Visualizer.py D:/REPOS/LeanVersions/Lean/Data/cfd/oanda/tick/xauusd/20140501_quote.zip C:/Users/jjd/Pictures/Testing/cfd_tick\n",
      "Running python QuantConnect.Visualizer.py D:/REPOS/LeanVersions/Lean/Data/crypto/gdax/daily/btcusd_quote.zip C:/Users/jjd/Pictures/Testing/crypto_daily\n",
      "Running python QuantConnect.Visualizer.py D:/REPOS/LeanVersions/Lean/Data/crypto/gdax/minute/btceur/20180404_trade.zip C:/Users/jjd/Pictures/Testing/crypto_minute\n",
      "Running python QuantConnect.Visualizer.py D:/REPOS/LeanVersions/Lean/Data/crypto/gdax/second/btcusd/20161007_quote.zip C:/Users/jjd/Pictures/Testing/crypto_second\n",
      "Running python QuantConnect.Visualizer.py D:/REPOS/LeanVersions/Lean/Data/equity/usa/daily/aapl.zip C:/Users/jjd/Pictures/Testing/equity_daily\n",
      "Running python QuantConnect.Visualizer.py D:/REPOS/LeanVersions/Lean/Data/equity/usa/hour/bac.zip C:/Users/jjd/Pictures/Testing/equity_hour\n",
      "Running python QuantConnect.Visualizer.py D:/REPOS/LeanVersions/Lean/Data/equity/usa/minute/aapl/20140605_trade.zip C:/Users/jjd/Pictures/Testing/equity_minute\n",
      "Running python QuantConnect.Visualizer.py D:/REPOS/LeanVersions/Lean/Data/equity/usa/second/aig/20131007_trade.zip C:/Users/jjd/Pictures/Testing/equity_second\n",
      "Running python QuantConnect.Visualizer.py D:/REPOS/LeanVersions/Lean/Data/equity/usa/tick/aig/20131007_trade.zip C:/Users/jjd/Pictures/Testing/equity_tick\n",
      "Running python QuantConnect.Visualizer.py D:/REPOS/LeanVersions/Lean/Data/forex/fxcm/daily/eurgbp.zip C:/Users/jjd/Pictures/Testing/forex_daily\n",
      "Running python QuantConnect.Visualizer.py D:/REPOS/LeanVersions/Lean/Data/forex/fxcm/hour/eurusd.zip C:/Users/jjd/Pictures/Testing/forex_hour\n",
      "Running python QuantConnect.Visualizer.py D:/REPOS/LeanVersions/Lean/Data/forex/fxcm/minute/eurusd/20140501_quote.zip C:/Users/jjd/Pictures/Testing/forex_minute\n",
      "Running python QuantConnect.Visualizer.py D:/REPOS/LeanVersions/Lean/Data/forex/fxcm/second/eurusd/20140501_quote.zip C:/Users/jjd/Pictures/Testing/forex_second\n",
      "Running python QuantConnect.Visualizer.py D:/REPOS/LeanVersions/Lean/Data/forex/fxcm/tick/eurusd/20140501_quote.zip C:/Users/jjd/Pictures/Testing/forex_tick\n"
     ]
    }
   ],
   "source": [
    "for case in spot_markets_cases:\n",
    "    security = case.split('/')[5]\n",
    "    resolution = case.split('/')[7]\n",
    "    cli = f'{base_cli} {case} {base_output_folder}{security}_{resolution}'\n",
    "    print (f'Running {cli}')\n",
    "    os.system(cli)"
   ]
  },
  {
   "cell_type": "code",
   "execution_count": 6,
   "metadata": {},
   "outputs": [],
   "source": [
    "futures_option_cases = [\n",
    "    ['D:/REPOS/LeanVersions/Lean/Data/option/usa/minute/foxa/20130702_quote_american.zip', '20130702_foxa_minute_quote_american_call_280000_20130720.csv'],\n",
    "    ['D:/REPOS/LeanVersions/Lean/Data/option/usa/minute/aapl/20140606_trade_american.zip', '20140606_aapl_minute_trade_american_call_6475000_20140606.csv'],\n",
    "    ['D:/REPOS/LeanVersions/Lean/Data/future/usa/minute/es/20131008_quote.zip', '20131008_es_minute_quote_201312.csv'],\n",
    "    ['D:/REPOS/LeanVersions/Lean/Data/future/usa/minute/gc/20131010_trade.zip', '20131010_gc_minute_trade_201312.csv']   \n",
    "]"
   ]
  },
  {
   "cell_type": "code",
   "execution_count": 7,
   "metadata": {},
   "outputs": [
    {
     "name": "stdout",
     "output_type": "stream",
     "text": [
      "Running python QuantConnect.Visualizer.py D:/REPOS/LeanVersions/Lean/Data/option/usa/minute/foxa/20130702_quote_american.zip 20130702_foxa_minute_quote_american_call_280000_20130720.csv C:/Users/jjd/Pictures/Testing/option_quote\n",
      "Running python QuantConnect.Visualizer.py D:/REPOS/LeanVersions/Lean/Data/option/usa/minute/aapl/20140606_trade_american.zip 20140606_aapl_minute_trade_american_call_6475000_20140606.csv C:/Users/jjd/Pictures/Testing/option_trade\n",
      "Running python QuantConnect.Visualizer.py D:/REPOS/LeanVersions/Lean/Data/future/usa/minute/es/20131008_quote.zip 20131008_es_minute_quote_201312.csv C:/Users/jjd/Pictures/Testing/future_quote\n",
      "Running python QuantConnect.Visualizer.py D:/REPOS/LeanVersions/Lean/Data/future/usa/minute/gc/20131010_trade.zip 20131010_gc_minute_trade_201312.csv C:/Users/jjd/Pictures/Testing/future_trade\n"
     ]
    }
   ],
   "source": [
    "for case in futures_option_cases:\n",
    "    security = case[0].split('/')[5]\n",
    "    bar_type = 'quote' if 'quote' in case[0] else 'trade' \n",
    "    cli = f'{base_cli} {case[0]} {case[1]} {base_output_folder}{security}_{bar_type}'\n",
    "    print (f'Running {cli}')\n",
    "    os.system(cli)"
   ]
  },
  {
   "cell_type": "code",
   "execution_count": null,
   "metadata": {},
   "outputs": [],
   "source": []
  },
  {
   "cell_type": "code",
   "execution_count": null,
   "metadata": {},
   "outputs": [],
   "source": []
  }
 ],
 "metadata": {
  "kernelspec": {
   "display_name": "Python 3",
   "language": "python",
   "name": "python3"
  },
  "language_info": {
   "codemirror_mode": {
    "name": "ipython",
    "version": 3
   },
   "file_extension": ".py",
   "mimetype": "text/x-python",
   "name": "python",
   "nbconvert_exporter": "python",
   "pygments_lexer": "ipython3",
   "version": "3.6.3"
  }
 },
 "nbformat": 4,
 "nbformat_minor": 2
}
