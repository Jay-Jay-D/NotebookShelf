{
 "cells": [
  {
   "cell_type": "code",
   "execution_count": 1,
   "metadata": {},
   "outputs": [],
   "source": [
    "import os\n",
    "os.chdir('D:/REPOS/LeanVersions/Lean/ToolBox/bin/Debug/Visualizer')"
   ]
  },
  {
   "cell_type": "code",
   "execution_count": 2,
   "metadata": {},
   "outputs": [],
   "source": [
    "spot_markets_cases = ['D:/REPOS/LeanVersions/Lean/Data/cfd/oanda/daily/xauusd.zip',\n",
    "                      'D:/REPOS/LeanVersions/Lean/Data/cfd/oanda/hour/xauusd.zip',\n",
    "                      'D:/REPOS/LeanVersions/Lean/Data/cfd/oanda/minute/xauusd/20140501_quote.zip',\n",
    "                      'D:/REPOS/LeanVersions/Lean/Data/cfd/oanda/second/xauusd/20140501_quote.zip',\n",
    "                      'D:/REPOS/LeanVersions/Lean/Data/cfd/oanda/tick/xauusd/20140501_quote.zip',\n",
    "                      'D:/REPOS/LeanVersions/Lean/Data/crypto/gdax/daily/btcusd_quote.zip',\n",
    "                      'D:/REPOS/LeanVersions/Lean/Data/crypto/gdax/minute/btceur/20180404_trade.zip',\n",
    "                      'D:/REPOS/LeanVersions/Lean/Data/crypto/gdax/second/btcusd/20161007_quote.zip',\n",
    "                      'D:/REPOS/LeanVersions/Lean/Data/equity/usa/daily/aapl.zip',\n",
    "                      'D:/REPOS/LeanVersions/Lean/Data/equity/usa/hour/bac.zip',\n",
    "                      'D:/REPOS/LeanVersions/Lean/Data/equity/usa/minute/aapl/20140605_trade.zip',\n",
    "                      'D:/REPOS/LeanVersions/Lean/Data/equity/usa/second/aig/20131007_trade.zip',\n",
    "                      'D:/REPOS/LeanVersions/Lean/Data/equity/usa/tick/aig/20131007_trade.zip',\n",
    "                      'D:/REPOS/LeanVersions/Lean/Data/forex/fxcm/daily/eurgbp.zip',\n",
    "                      'D:/REPOS/LeanVersions/Lean/Data/forex/fxcm/hour/eurusd.zip',\n",
    "                      'D:/REPOS/LeanVersions/Lean/Data/forex/fxcm/minute/eurusd/20140501_quote.zip',\n",
    "                      'D:/REPOS/LeanVersions/Lean/Data/forex/fxcm/second/eurusd/20140501_quote.zip',\n",
    "                      'D:/REPOS/LeanVersions/Lean/Data/forex/fxcm/tick/eurusd/20140501_quote.zip'\n",
    "                      ]"
   ]
  },
  {
   "cell_type": "code",
   "execution_count": 3,
   "metadata": {},
   "outputs": [],
   "source": [
    "base_cli = 'python QuantConnect.Visualizer.py'\n",
    "base_output_folder = 'C:/Users/jjd/Pictures/Testing/'"
   ]
  },
  {
   "cell_type": "code",
   "execution_count": 4,
   "metadata": {},
   "outputs": [
    {
     "name": "stdout",
     "output_type": "stream",
     "text": [
      "Running python QuantConnect.Visualizer.py D:/REPOS/LeanVersions/Lean/Data/cfd/oanda/daily/xauusd.zip\n",
      "Running python QuantConnect.Visualizer.py D:/REPOS/LeanVersions/Lean/Data/cfd/oanda/hour/xauusd.zip\n",
      "Running python QuantConnect.Visualizer.py D:/REPOS/LeanVersions/Lean/Data/cfd/oanda/minute/xauusd/20140501_quote.zip\n",
      "Running python QuantConnect.Visualizer.py D:/REPOS/LeanVersions/Lean/Data/cfd/oanda/second/xauusd/20140501_quote.zip\n",
      "Running python QuantConnect.Visualizer.py D:/REPOS/LeanVersions/Lean/Data/cfd/oanda/tick/xauusd/20140501_quote.zip\n",
      "Running python QuantConnect.Visualizer.py D:/REPOS/LeanVersions/Lean/Data/crypto/gdax/daily/btcusd_quote.zip\n",
      "Running python QuantConnect.Visualizer.py D:/REPOS/LeanVersions/Lean/Data/crypto/gdax/minute/btceur/20180404_trade.zip\n",
      "Running python QuantConnect.Visualizer.py D:/REPOS/LeanVersions/Lean/Data/crypto/gdax/second/btcusd/20161007_quote.zip\n",
      "Running python QuantConnect.Visualizer.py D:/REPOS/LeanVersions/Lean/Data/equity/usa/daily/aapl.zip\n",
      "Running python QuantConnect.Visualizer.py D:/REPOS/LeanVersions/Lean/Data/equity/usa/hour/bac.zip\n",
      "Running python QuantConnect.Visualizer.py D:/REPOS/LeanVersions/Lean/Data/equity/usa/minute/aapl/20140605_trade.zip\n",
      "Running python QuantConnect.Visualizer.py D:/REPOS/LeanVersions/Lean/Data/equity/usa/second/aig/20131007_trade.zip\n",
      "Running python QuantConnect.Visualizer.py D:/REPOS/LeanVersions/Lean/Data/equity/usa/tick/aig/20131007_trade.zip\n",
      "Running python QuantConnect.Visualizer.py D:/REPOS/LeanVersions/Lean/Data/forex/fxcm/daily/eurgbp.zip\n",
      "Running python QuantConnect.Visualizer.py D:/REPOS/LeanVersions/Lean/Data/forex/fxcm/hour/eurusd.zip\n",
      "Running python QuantConnect.Visualizer.py D:/REPOS/LeanVersions/Lean/Data/forex/fxcm/minute/eurusd/20140501_quote.zip\n",
      "Running python QuantConnect.Visualizer.py D:/REPOS/LeanVersions/Lean/Data/forex/fxcm/second/eurusd/20140501_quote.zip\n",
      "Running python QuantConnect.Visualizer.py D:/REPOS/LeanVersions/Lean/Data/forex/fxcm/tick/eurusd/20140501_quote.zip\n"
     ]
    }
   ],
   "source": [
    "for case in spot_markets_cases:\n",
    "    security = case.split('/')[5]\n",
    "    resolution = case.split('/')[7]\n",
    "    cli = f'{base_cli} {case}'\n",
    "    print (f'Running {cli}')\n",
    "    os.system(cli)"
   ]
  },
  {
   "cell_type": "code",
   "execution_count": 5,
   "metadata": {},
   "outputs": [],
   "source": [
    "futures_new_implementation = [\n",
    "    ['D:/REPOS/LeanVersions/Lean/Data/future/usa/minute/es/20131008_quote.zip', '20131008_es_minute_quote_201312.csv'],\n",
    "    ['D:/REPOS/LeanVersions/Lean/Data/future/usa/minute/gc/20131010_trade.zip', '20131010_gc_minute_trade_201312.csv'],\n",
    "    ['D:/REPOS/LeanVersions/Lean/Data/future/usa/tick/gc/20131009_quote.zip', '20131009_gc_tick_quote_201406.csv'],\n",
    "    ['D:/REPOS/LeanVersions/Lean/Data/future/usa/tick/gc/20131009_trade.zip', '20131009_gc_tick_trade_201312.csv'],\n",
    "    ['D:/REPOS/LeanVersions/Lean/Data/future/usa/minute/es/20131010_openinterest.zip', '20131010_es_minute_openinterest_201312.csv'],\n",
    "    ['D:/REPOS/LeanVersions/Lean/Data/future/usa/tick/gc/20131009_openinterest.zip', '20131009_gc_tick_openinterest_201310.csv'],\n",
    "    ['D:/REPOS/LeanVersions/Lean/Data/option/usa/minute/aapl/20140606_quote_american.zip', '20140606_aapl_minute_quote_american_put_7500000_20141018.csv'],\n",
    "    ['D:/REPOS/LeanVersions/Lean/Data/option/usa/minute/aapl/20140606_trade_american.zip', '20140606_aapl_minute_trade_american_call_6475000_20140606.csv'],\n",
    "    ['D:/REPOS/LeanVersions/Lean/Data/option/usa/minute/goog/20151224_openinterest_american.zip', '20151224_goog_minute_openinterest_american_call_3000000_20160115.csv']\n",
    "]"
   ]
  },
  {
   "cell_type": "code",
   "execution_count": 6,
   "metadata": {},
   "outputs": [
    {
     "name": "stdout",
     "output_type": "stream",
     "text": [
      "Running python QuantConnect.Visualizer.py D:/REPOS/LeanVersions/Lean/Data/future/usa/minute/es/20131008_quote.zip#20131008_es_minute_quote_201312.csv\n",
      "Running python QuantConnect.Visualizer.py D:/REPOS/LeanVersions/Lean/Data/future/usa/minute/gc/20131010_trade.zip#20131010_gc_minute_trade_201312.csv\n",
      "Running python QuantConnect.Visualizer.py D:/REPOS/LeanVersions/Lean/Data/future/usa/tick/gc/20131009_quote.zip#20131009_gc_tick_quote_201406.csv\n",
      "Running python QuantConnect.Visualizer.py D:/REPOS/LeanVersions/Lean/Data/future/usa/tick/gc/20131009_trade.zip#20131009_gc_tick_trade_201312.csv\n",
      "Running python QuantConnect.Visualizer.py D:/REPOS/LeanVersions/Lean/Data/future/usa/minute/es/20131010_openinterest.zip#20131010_es_minute_openinterest_201312.csv\n",
      "Running python QuantConnect.Visualizer.py D:/REPOS/LeanVersions/Lean/Data/future/usa/tick/gc/20131009_openinterest.zip#20131009_gc_tick_openinterest_201310.csv\n",
      "Running python QuantConnect.Visualizer.py D:/REPOS/LeanVersions/Lean/Data/option/usa/minute/aapl/20140606_quote_american.zip#20140606_aapl_minute_quote_american_put_7500000_20141018.csv\n",
      "Running python QuantConnect.Visualizer.py D:/REPOS/LeanVersions/Lean/Data/option/usa/minute/aapl/20140606_trade_american.zip#20140606_aapl_minute_trade_american_call_6475000_20140606.csv\n",
      "Running python QuantConnect.Visualizer.py D:/REPOS/LeanVersions/Lean/Data/option/usa/minute/goog/20151224_openinterest_american.zip#20151224_goog_minute_openinterest_american_call_3000000_20160115.csv\n"
     ]
    }
   ],
   "source": [
    "for case in futures_new_implementation:\n",
    "    resolution = case[0].split('/')[7]\n",
    "    security = case[0].split('/')[5]\n",
    "    if 'quote' in case[0]:\n",
    "        bar_type = 'quote'\n",
    "    elif 'trade' in case[0]:\n",
    "        bar_type = 'trade'\n",
    "    else:\n",
    "        bar_type = 'openinterest'\n",
    "    cli = f'{base_cli} {case[0]}#{case[1]}'\n",
    "    print (f'Running {cli}')\n",
    "    os.system(cli)"
   ]
  },
  {
   "cell_type": "code",
   "execution_count": null,
   "metadata": {},
   "outputs": [],
   "source": []
  }
 ],
 "metadata": {
  "kernelspec": {
   "display_name": "Python 3",
   "language": "python",
   "name": "python3"
  },
  "language_info": {
   "codemirror_mode": {
    "name": "ipython",
    "version": 3
   },
   "file_extension": ".py",
   "mimetype": "text/x-python",
   "name": "python",
   "nbconvert_exporter": "python",
   "pygments_lexer": "ipython3",
   "version": "3.6.3"
  }
 },
 "nbformat": 4,
 "nbformat_minor": 2
}
